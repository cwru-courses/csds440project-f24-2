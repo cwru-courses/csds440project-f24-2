{
 "cells": [
  {
   "cell_type": "markdown",
   "metadata": {},
   "source": [
    "## MNIST dataset"
   ]
  },
  {
   "cell_type": "code",
   "execution_count": 7,
   "metadata": {},
   "outputs": [],
   "source": [
    "import pandas as pd\n",
    "from sklearn.datasets import fetch_openml\n",
    "from sklearn.model_selection import train_test_split\n",
    "from create_views import create_views_pca\n",
    "from evaluate import cross_validate_linear_subspace"
   ]
  },
  {
   "cell_type": "code",
   "execution_count": 8,
   "metadata": {},
   "outputs": [],
   "source": [
    "# Load and preprocess the MNIST dataset\n",
    "X, y = fetch_openml('mnist_784', version=1, return_X_y=True)\n",
    "if isinstance(X, pd.DataFrame):  # Check if X is a DataFrame\n",
    "    X = X.values  # Convert DataFrame to NumPy array\n",
    "X = X / 255.0  # Normalize to [0, 1]\n",
    "\n",
    "# Create two views of the data\n",
    "X1, X2 = create_views_pca(X, n_components=64)"
   ]
  },
  {
   "cell_type": "code",
   "execution_count": 10,
   "metadata": {},
   "outputs": [
    {
     "name": "stdout",
     "output_type": "stream",
     "text": [
      "\n",
      "--- Fold 1 ---\n",
      "X1_train_unlabeled (53199, 784)\n",
      "X2_train_unlabeled (53199, 64)\n"
     ]
    },
    {
     "ename": "ValueError",
     "evalue": "could not broadcast input array from shape (64,) into shape (784,)",
     "output_type": "error",
     "traceback": [
      "\u001b[0;31m---------------------------------------------------------------------------\u001b[0m",
      "\u001b[0;31mValueError\u001b[0m                                Traceback (most recent call last)",
      "Cell \u001b[0;32mIn[10], line 1\u001b[0m\n\u001b[0;32m----> 1\u001b[0m results \u001b[38;5;241m=\u001b[39m \u001b[43mcross_validate_linear_subspace\u001b[49m\u001b[43m(\u001b[49m\u001b[43mdataset_F1\u001b[49m\u001b[38;5;241;43m=\u001b[39;49m\u001b[43mX1\u001b[49m\u001b[43m,\u001b[49m\u001b[43m \u001b[49m\u001b[43mdataset_F2\u001b[49m\u001b[38;5;241;43m=\u001b[39;49m\u001b[43mX2\u001b[49m\u001b[43m,\u001b[49m\u001b[43m \u001b[49m\u001b[43mlabels\u001b[49m\u001b[38;5;241;43m=\u001b[39;49m\u001b[43my\u001b[49m\u001b[43m,\u001b[49m\u001b[43m \u001b[49m\u001b[43munlabeled_proportion\u001b[49m\u001b[38;5;241;43m=\u001b[39;49m\u001b[38;5;241;43m.95\u001b[39;49m\u001b[43m)\u001b[49m\n",
      "File \u001b[0;32m~/Desktop/csds440project-f24-2/sal164/good/evaluate.py:53\u001b[0m, in \u001b[0;36mcross_validate_linear_subspace\u001b[0;34m(dataset_F1, dataset_F2, labels, unlabeled_proportion, n_splits, random_state, t_func)\u001b[0m\n\u001b[1;32m     51\u001b[0m \u001b[38;5;66;03m# --- Train and Evaluate Transformed Model ---\u001b[39;00m\n\u001b[1;32m     52\u001b[0m model \u001b[38;5;241m=\u001b[39m LinearSubspaceModel(t_function_name\u001b[38;5;241m=\u001b[39mt_func)\n\u001b[0;32m---> 53\u001b[0m \u001b[43mmodel\u001b[49m\u001b[38;5;241;43m.\u001b[39;49m\u001b[43mfit\u001b[49m\u001b[43m(\u001b[49m\u001b[43mX1_train_unlabeled\u001b[49m\u001b[43m,\u001b[49m\u001b[43m \u001b[49m\u001b[43mX2_train_unlabeled\u001b[49m\u001b[43m)\u001b[49m  \u001b[38;5;66;03m# Train model on both views\u001b[39;00m\n\u001b[1;32m     55\u001b[0m X_train_transformed \u001b[38;5;241m=\u001b[39m model\u001b[38;5;241m.\u001b[39mtransform(X1_train_labeled, X2_train_labeled)  \u001b[38;5;66;03m# Transform training data\u001b[39;00m\n\u001b[1;32m     56\u001b[0m clf \u001b[38;5;241m=\u001b[39m LogisticRegression(max_iter\u001b[38;5;241m=\u001b[39m\u001b[38;5;241m1000\u001b[39m)\n",
      "File \u001b[0;32m~/Desktop/csds440project-f24-2/sal164/good/linear_subspace_final.py:88\u001b[0m, in \u001b[0;36mLinearSubspaceModel.fit\u001b[0;34m(self, Z1, Z2)\u001b[0m\n\u001b[1;32m     80\u001b[0m \u001b[38;5;28;01mdef\u001b[39;00m \u001b[38;5;21mfit\u001b[39m(\u001b[38;5;28mself\u001b[39m, Z1, Z2):\n\u001b[1;32m     81\u001b[0m \u001b[38;5;250m    \u001b[39m\u001b[38;5;124;03m\"\"\"\u001b[39;00m\n\u001b[1;32m     82\u001b[0m \u001b[38;5;124;03m    Train the model using input data Z1 and Z2.\u001b[39;00m\n\u001b[1;32m     83\u001b[0m \u001b[38;5;124;03m    \u001b[39;00m\n\u001b[0;32m   (...)\u001b[0m\n\u001b[1;32m     86\u001b[0m \u001b[38;5;124;03m    - Z2: Second input data matrix of shape (n_samples, n_features).\u001b[39;00m\n\u001b[1;32m     87\u001b[0m \u001b[38;5;124;03m    \"\"\"\u001b[39;00m\n\u001b[0;32m---> 88\u001b[0m     \u001b[38;5;28mself\u001b[39m\u001b[38;5;241m.\u001b[39mW2 \u001b[38;5;241m=\u001b[39m \u001b[38;5;28;43mself\u001b[39;49m\u001b[38;5;241;43m.\u001b[39;49m\u001b[43mcompute_weight_matrix\u001b[49m\u001b[43m(\u001b[49m\u001b[43mZ1\u001b[49m\u001b[43m,\u001b[49m\u001b[43m \u001b[49m\u001b[43mZ2\u001b[49m\u001b[43m)\u001b[49m  \u001b[38;5;66;03m# Compute weight matrix for Z1 -> Z2\u001b[39;00m\n\u001b[1;32m     89\u001b[0m     \u001b[38;5;28mself\u001b[39m\u001b[38;5;241m.\u001b[39mV2 \u001b[38;5;241m=\u001b[39m \u001b[38;5;28mself\u001b[39m\u001b[38;5;241m.\u001b[39mcompute_singular_vectors(\u001b[38;5;28mself\u001b[39m\u001b[38;5;241m.\u001b[39mW2)  \u001b[38;5;66;03m# Compute top p singular vectors for W2\u001b[39;00m\n\u001b[1;32m     90\u001b[0m     \u001b[38;5;28mself\u001b[39m\u001b[38;5;241m.\u001b[39mW1 \u001b[38;5;241m=\u001b[39m \u001b[38;5;28mself\u001b[39m\u001b[38;5;241m.\u001b[39mcompute_weight_matrix(Z2, Z1)  \u001b[38;5;66;03m# Compute weight matrix for Z2 -> Z1\u001b[39;00m\n",
      "File \u001b[0;32m~/Desktop/csds440project-f24-2/sal164/good/linear_subspace_final.py:63\u001b[0m, in \u001b[0;36mLinearSubspaceModel.compute_weight_matrix\u001b[0;34m(self, Z1, Z2)\u001b[0m\n\u001b[1;32m     61\u001b[0m     t_l \u001b[38;5;241m=\u001b[39m np\u001b[38;5;241m.\u001b[39marray([\u001b[38;5;28mself\u001b[39m\u001b[38;5;241m.\u001b[39mt_func(\u001b[38;5;28mself\u001b[39m, z) \u001b[38;5;28;01mfor\u001b[39;00m z \u001b[38;5;129;01min\u001b[39;00m Z1])[:, i]  \u001b[38;5;66;03m# Extract the i-th column of one-hot encodings\u001b[39;00m\n\u001b[1;32m     62\u001b[0m     ridge\u001b[38;5;241m.\u001b[39mfit(Z2, t_l)  \u001b[38;5;66;03m# Fit the Ridge regression model using Z2 as predictors\u001b[39;00m\n\u001b[0;32m---> 63\u001b[0m     \u001b[43mW\u001b[49m\u001b[43m[\u001b[49m\u001b[43m:\u001b[49m\u001b[43m,\u001b[49m\u001b[43m \u001b[49m\u001b[43mi\u001b[49m\u001b[43m]\u001b[49m \u001b[38;5;241m=\u001b[39m ridge\u001b[38;5;241m.\u001b[39mcoef_  \u001b[38;5;66;03m# Store the learned coefficients for the i-th column\u001b[39;00m\n\u001b[1;32m     64\u001b[0m \u001b[38;5;28;01mreturn\u001b[39;00m W\n",
      "\u001b[0;31mValueError\u001b[0m: could not broadcast input array from shape (64,) into shape (784,)"
     ]
    }
   ],
   "source": [
    "results = cross_validate_linear_subspace(dataset_F1=X1, dataset_F2=X2, labels=y, unlabeled_proportion=.95)"
   ]
  },
  {
   "cell_type": "markdown",
   "metadata": {},
   "source": [
    "## Australia dataset"
   ]
  },
  {
   "cell_type": "code",
   "execution_count": null,
   "metadata": {},
   "outputs": [],
   "source": []
  },
  {
   "cell_type": "markdown",
   "metadata": {},
   "source": [
    "## KR vs KP dataset"
   ]
  }
 ],
 "metadata": {
  "kernelspec": {
   "display_name": ".venv",
   "language": "python",
   "name": "python3"
  },
  "language_info": {
   "codemirror_mode": {
    "name": "ipython",
    "version": 3
   },
   "file_extension": ".py",
   "mimetype": "text/x-python",
   "name": "python",
   "nbconvert_exporter": "python",
   "pygments_lexer": "ipython3",
   "version": "3.12.7"
  }
 },
 "nbformat": 4,
 "nbformat_minor": 2
}
