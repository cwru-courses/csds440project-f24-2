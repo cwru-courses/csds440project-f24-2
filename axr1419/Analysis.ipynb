{
 "cells": [
  {
   "cell_type": "markdown",
   "id": "ca85ab5e-afe9-4efb-b36d-b9afff5e227c",
   "metadata": {},
   "source": [
    "### Train the TSVM on the Dataset "
   ]
  },
  {
   "cell_type": "markdown",
   "id": "e16116c5",
   "metadata": {},
   "source": [
    "### 1. I have implemented the TSVM using the paper "
   ]
  },
  {
   "cell_type": "code",
   "execution_count": 2,
   "id": "63e63dd3",
   "metadata": {},
   "outputs": [
    {
     "name": "stdout",
     "output_type": "stream",
     "text": [
      "Training TSVM...\n",
      "Testing TSVM...\n",
      "Accuracy: 0.1000\n",
      "Precision: 0.01\n",
      "Recall: 1.00\n",
      "F1-Score: 0.02\n"
     ]
    },
    {
     "name": "stderr",
     "output_type": "stream",
     "text": [
      "/Users/akashrana/Downloads/S3VM/.venv/lib/python3.9/site-packages/sklearn/metrics/_classification.py:1531: UndefinedMetricWarning: Precision is ill-defined and being set to 0.0 in labels with no predicted samples. Use `zero_division` parameter to control this behavior.\n",
      "  _warn_prf(average, modifier, f\"{metric.capitalize()} is\", len(result))\n"
     ]
    }
   ],
   "source": [
    "import numpy as np\n",
    "from datasets import load_dataset\n",
    "from sklearn.model_selection import train_test_split\n",
    "from sklearn.preprocessing import StandardScaler\n",
    "from sklearn.metrics import accuracy_score, precision_score, recall_score, f1_score\n",
    "\n",
    "from mlp_multi import MLP  \n",
    "from svm import MulticlassTSVM  \n",
    "\n",
    "# Load the dataset CIFAR-10\n",
    "data = load_dataset(\"uoft-cs/cifar10\")\n",
    "\n",
    "# Flatened the images into Arrray for traing and testing\n",
    "def preprocess_img(imgs):\n",
    "    flattened_imgs = []\n",
    "    for img in imgs:\n",
    "        flattened_imgs.append(np.array(img).flatten())\n",
    "    flattened_imgs_array = np.array(flattened_imgs)\n",
    "    return flattened_imgs_array\n",
    "\n",
    "# Intializing the trainging and testing data to corresponding Variable\n",
    "X_train = preprocess_img(data['train']['img'])\n",
    "y_train = np.array(data['train']['label'])\n",
    "X_test = preprocess_img(data['test']['img'])\n",
    "y_test = np.array(data['test']['label'])\n",
    "\n",
    "# Normalize the features\n",
    "scaler = StandardScaler()\n",
    "X_train = scaler.fit_transform(X_train)\n",
    "X_test = scaler.transform(X_test)\n",
    "\n",
    "# Split the data into labled and unlabled set for training and Testing\n",
    "X_labeled, X_unlabeled, y_labeled, _ = train_test_split(X_train, y_train, test_size=0.5, random_state=42)\n",
    "\n",
    "# One-hot encode the labels for MLP training\n",
    "n_classes = len(np.unique(y_train))\n",
    "y_labeled_one_hot = np.eye(n_classes)[y_labeled]\n",
    "\n",
    "# Intialising the parameters of TSVM for multi-classification\n",
    "multi_tsvm = MulticlassTSVM(\n",
    "    n_classes=n_classes,\n",
    "    max_iter=50,\n",
    "    learning_rate=0.01,\n",
    "    lambda_param=0.01,\n",
    "    lambda_u=0.1,\n",
    "    itr=100\n",
    ")\n",
    "\n",
    "print(\"Training TSVM...\")\n",
    "multi_tsvm.fit(X_labeled, y_labeled, X_unlabeled)\n",
    "\n",
    "print(\"Testing TSVM...\")\n",
    "y_pred = multi_tsvm.predict(X_test)\n",
    "\n",
    "# Evaluate accuracy of the Model\n",
    "accuracy = accuracy_score(y_test, y_pred)\n",
    "print(f\"Accuracy: {accuracy:.4f}\")\n",
    "\n",
    "precision = precision_score(y_test, y_pred, average='macro')  # Options: 'macro', 'micro', 'weighted', 'binary'\n",
    "print(f\"Precision: {precision:.2f}\")\n",
    "\n",
    "# Recall\n",
    "recall = recall_score(y_test, y_test, average='macro')\n",
    "print(f\"Recall: {recall:.2f}\")\n",
    "\n",
    "# F1-Score\n",
    "f1 = f1_score(y_test, y_pred, average='macro')\n",
    "print(f\"F1-Score: {f1:.2f}\")\n"
   ]
  },
  {
   "cell_type": "markdown",
   "id": "1aed343d",
   "metadata": {},
   "source": [
    "### 2. This is the implentation of My hybrid Model - MLP + TSVM"
   ]
  },
  {
   "cell_type": "code",
   "execution_count": 4,
   "id": "294b1659-1681-43f1-a70b-fa846ed46d3c",
   "metadata": {},
   "outputs": [
    {
     "name": "stdout",
     "output_type": "stream",
     "text": [
      "Weights loaded from multi_mlp_weights.pkl\n",
      "Fine Tuning the MLP...\n",
      "Training TSVM...\n",
      "Testing TSVM...\n",
      "Accuracy: 0.1000\n",
      "Precision: 0.01\n",
      "Recall: 0.10\n",
      "F1-Score: 0.02\n"
     ]
    },
    {
     "name": "stderr",
     "output_type": "stream",
     "text": [
      "/Users/akashrana/Downloads/S3VM/.venv/lib/python3.9/site-packages/sklearn/metrics/_classification.py:1531: UndefinedMetricWarning: Precision is ill-defined and being set to 0.0 in labels with no predicted samples. Use `zero_division` parameter to control this behavior.\n",
      "  _warn_prf(average, modifier, f\"{metric.capitalize()} is\", len(result))\n"
     ]
    }
   ],
   "source": [
    "# Initialize the MLP model\n",
    "mlp = MLP(input_size=X_labeled.shape[1], n_classes=n_classes)\n",
    "\n",
    "# Load pre-trained weights\n",
    "weights_file = \"multi_mlp_weights.pkl\"\n",
    "mlp.load_weights(weights_file)\n",
    "\n",
    "# Fine Tunning of the MLP Model for efficient featre extraction\n",
    "n_epochs = 100 \n",
    "learning_rate = 0.01\n",
    "\n",
    "print(\"Fine Tuning the MLP...\")\n",
    "for epoch in range(n_epochs):\n",
    "    outputs = mlp.feed_forward_block(X_labeled)\n",
    "    loss = -np.mean(np.sum(y_labeled_one_hot * np.log(outputs + 1e-7), axis=1))\n",
    "    mlp.backpropagation(y_labeled_one_hot, learning_rate=learning_rate)\n",
    "\n",
    "# Extracting the features from data using pre-trained MLP\n",
    "X_labeled_features = mlp.extract_features(X_labeled)\n",
    "X_unlabeled_features = mlp.extract_features(X_unlabeled)\n",
    "X_test_features = mlp.extract_features(X_test)\n",
    "\n",
    "# Intializing the Parameters of TSVM\n",
    "multi_tsvm = MulticlassTSVM(\n",
    "    n_classes=n_classes,\n",
    "    max_iter=50,\n",
    "    learning_rate=0.01,\n",
    "    lambda_param=0.01,\n",
    "    lambda_u=0.1,\n",
    "    itr=100\n",
    ")\n",
    "\n",
    "print(\"Training TSVM...\")\n",
    "multi_tsvm.fit(X_labeled_features, y_labeled, X_unlabeled_features)\n",
    "\n",
    "print(\"Testing TSVM...\")\n",
    "y_pred = multi_tsvm.predict(X_test_features)\n",
    "\n",
    "# Evaluate accuracy on the test data of the Model\n",
    "accuracy = accuracy_score(y_test, y_pred)\n",
    "print(f\"Accuracy: {accuracy:.4f}\")\n",
    "\n",
    "precision = precision_score(y_test, y_pred, average='macro')  # Options: 'macro', 'micro', 'weighted', 'binary'\n",
    "print(f\"Precision: {precision:.2f}\")\n",
    "\n",
    "# Recall\n",
    "recall = recall_score(y_test, y_pred, average='macro')\n",
    "print(f\"Recall: {recall:.2f}\")\n",
    "\n",
    "# F1-Score\n",
    "f1 = f1_score(y_test, y_pred, average='macro')\n",
    "print(f\"F1-Score: {f1:.2f}\")"
   ]
  }
 ],
 "metadata": {
  "kernelspec": {
   "display_name": ".venv",
   "language": "python",
   "name": "python3"
  },
  "language_info": {
   "codemirror_mode": {
    "name": "ipython",
    "version": 3
   },
   "file_extension": ".py",
   "mimetype": "text/x-python",
   "name": "python",
   "nbconvert_exporter": "python",
   "pygments_lexer": "ipython3",
   "version": "3.9.6"
  }
 },
 "nbformat": 4,
 "nbformat_minor": 5
}
